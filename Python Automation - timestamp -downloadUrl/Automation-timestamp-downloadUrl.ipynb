{
 "cells": [
  {
   "cell_type": "markdown",
   "metadata": {},
   "source": [
    "<span style=\"font-size:20px;color:lightblue\">Python Libraries Used:</span>"
   ]
  },
  {
   "cell_type": "code",
   "execution_count": 32,
   "metadata": {},
   "outputs": [],
   "source": [
    "import os\n",
    "import requests\n",
    "import datetime"
   ]
  },
  {
   "cell_type": "markdown",
   "metadata": {},
   "source": [
    "<span style=\"font-size:20px;color:lightblue\">Automated image downloader function:</span>\n",
    "<p>This function contains takes image URLs and downloads them in a specific directory.</p>"
   ]
  },
  {
   "cell_type": "code",
   "execution_count": 33,
   "metadata": {},
   "outputs": [],
   "source": [
    "def download_images(image_urls, save_directory):\n",
    "    os.makedirs(save_directory, exist_ok=True)\n",
    "\n",
    "    for idx, url in enumerate(image_urls):\n",
    "        try:\n",
    "            response = requests.get(url)\n",
    "            if response.status_code == 200:\n",
    "                image_name = f\"{idx + 1}-AutomatedImage.jpg\"\n",
    "                image_path = os.path.join(save_directory, image_name)\n",
    "\n",
    "                with open(image_path, \"wb\") as image_file:\n",
    "                    image_file.write(response.content)\n",
    "\n",
    "                print(f\"Downloaded: {image_name}\")\n",
    "            else:\n",
    "                print(f\"Failed to download: {url} (Status code: {response.status_code})\")\n",
    "        except Exception as e:\n",
    "            print(f\"Error while downloading {url}: {e}\")"
   ]
  },
  {
   "cell_type": "markdown",
   "metadata": {},
   "source": [
    "<span style=\"font-size:20px;color:lightblue\">Automated file timestamp renamer function:</span>\n",
    "<p>This function contains rename the file in a specific directory by adding timestamp.</p>"
   ]
  },
  {
   "cell_type": "code",
   "execution_count": 34,
   "metadata": {},
   "outputs": [],
   "source": [
    "def rename_files_with_timestamp(directory_path):\n",
    "    current_time = datetime.datetime.now()\n",
    "    timestamp = current_time.strftime(\"%d-%m-%Y\")\n",
    "\n",
    "    files = os.listdir(directory_path)\n",
    "\n",
    "    for filename in files:\n",
    "        if os.path.isfile(os.path.join(directory_path, filename)):\n",
    "            name, ext = os.path.splitext(filename)\n",
    "            new_filename = f\"{name}_{timestamp}{ext}\"\n",
    "\n",
    "            os.rename(\n",
    "                os.path.join(directory_path, filename),\n",
    "                os.path.join(directory_path, new_filename)\n",
    "            )\n",
    "\n",
    "    print(\"File renaming with timestamp complete!\")"
   ]
  },
  {
   "cell_type": "markdown",
   "metadata": {},
   "source": [
    "<span style=\"font-size:20px;color:lightblue\">Main:</span>\n",
    "<p>Code Tested Here.</p>"
   ]
  },
  {
   "cell_type": "code",
   "execution_count": 35,
   "metadata": {},
   "outputs": [
    {
     "name": "stdout",
     "output_type": "stream",
     "text": [
      "Downloaded: 1-AutomatedImage.jpg\n",
      "Downloaded: 2-AutomatedImage.jpg\n",
      "File renaming with timestamp complete!\n"
     ]
    }
   ],
   "source": [
    "image_urls = [\n",
    "    \"https://imageio.forbes.com/specials-images/imageserve/648aaa9fac6d92c810b12f50/Why-Companies-Are-Vastly-Underprepared-For-The-Risks-Posed-By-AI/960x0.jpg?format=jpg&width=960\",\n",
    "    \"https://ichef.bbci.co.uk/news/976/cpsprodpb/14202/production/_108243428_gettyimages-871148930.jpg.webp\"\n",
    "]\n",
    "save_directory = \"AutomationImages\" \n",
    "download_images(image_urls, save_directory)\n",
    "rename_files_with_timestamp(save_directory)"
   ]
  }
 ],
 "metadata": {
  "kernelspec": {
   "display_name": "Python 3",
   "language": "python",
   "name": "python3"
  },
  "language_info": {
   "codemirror_mode": {
    "name": "ipython",
    "version": 3
   },
   "file_extension": ".py",
   "mimetype": "text/x-python",
   "name": "python",
   "nbconvert_exporter": "python",
   "pygments_lexer": "ipython3",
   "version": "3.10.0"
  },
  "orig_nbformat": 4
 },
 "nbformat": 4,
 "nbformat_minor": 2
}
